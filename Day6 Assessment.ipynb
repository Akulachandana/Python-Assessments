{
  "nbformat": 4,
  "nbformat_minor": 0,
  "metadata": {
    "colab": {
      "provenance": []
    },
    "kernelspec": {
      "name": "python3",
      "display_name": "Python 3"
    },
    "language_info": {
      "name": "python"
    }
  },
  "cells": [
    {
      "cell_type": "code",
      "execution_count": 3,
      "metadata": {
        "colab": {
          "base_uri": "https://localhost:8080/"
        },
        "id": "iLvyQrMe0FIR",
        "outputId": "61e85d80-f7d2-4f7e-9bf7-e13f63d9793f"
      },
      "outputs": [
        {
          "output_type": "stream",
          "name": "stdout",
          "text": [
            "[1, 2, 3, 'hi', 'python']\n"
          ]
        }
      ],
      "source": [
        "#copy\n",
        "list1=[1,2,3,\"hi\",\"python\"]\n",
        "mylist=list1.copy()\n",
        "print(mylist)"
      ]
    },
    {
      "cell_type": "code",
      "source": [
        "#difference\n",
        "a = {1, 3, 5, 7, 9}\n",
        "b = {2, 3, 5, 7, 11}\n",
        "print(a.difference(b))\n",
        "#print(b.difference(a))"
      ],
      "metadata": {
        "colab": {
          "base_uri": "https://localhost:8080/"
        },
        "id": "klmfSTA65T3R",
        "outputId": "bcde27e5-ea6f-476b-9935-30ee572da19a"
      },
      "execution_count": 6,
      "outputs": [
        {
          "output_type": "stream",
          "name": "stdout",
          "text": [
            "{1, 9}\n"
          ]
        }
      ]
    },
    {
      "cell_type": "code",
      "source": [
        "#intersection\n",
        "x={6,5,4,3,2,1}\n",
        "y={1,3,5,6,9,11}\n",
        "print(y.intersection(x))"
      ],
      "metadata": {
        "colab": {
          "base_uri": "https://localhost:8080/"
        },
        "id": "R9qFuKTK7XWJ",
        "outputId": "aa240483-44f1-4253-ce48-c62509d99361"
      },
      "execution_count": 10,
      "outputs": [
        {
          "output_type": "stream",
          "name": "stdout",
          "text": [
            "{1, 3, 5, 6}\n"
          ]
        }
      ]
    },
    {
      "cell_type": "code",
      "source": [
        "#symmetric_difference\n",
        "x={'a','b','c','d','e'}\n",
        "z={'b','c','i','j'}\n",
        "result=x.symmetric_difference(z)\n",
        "print(result)"
      ],
      "metadata": {
        "colab": {
          "base_uri": "https://localhost:8080/"
        },
        "id": "GxUuQW0HC73K",
        "outputId": "53991d24-d371-453a-e166-c66efa3a4b84"
      },
      "execution_count": 15,
      "outputs": [
        {
          "output_type": "stream",
          "name": "stdout",
          "text": [
            "{'a', 'd', 'j', 'e', 'i'}\n"
          ]
        }
      ]
    },
    {
      "cell_type": "code",
      "source": [
        "#union\n",
        "A ={2, 3, 5}\n",
        "B ={1, 3, 5}\n",
        "print('A U B =', A.union(B))"
      ],
      "metadata": {
        "colab": {
          "base_uri": "https://localhost:8080/"
        },
        "id": "Ai34uwnlDEgw",
        "outputId": "55a7a85e-2780-4447-e3ff-d082a5679dac"
      },
      "execution_count": 21,
      "outputs": [
        {
          "output_type": "stream",
          "name": "stdout",
          "text": [
            "A U B = {1, 2, 3, 5}\n"
          ]
        }
      ]
    },
    {
      "cell_type": "code",
      "source": [
        "#issuperset\n",
        "X ={1, 2, 3, 4, 5}\n",
        "Y ={1, 2, 3}\n",
        "Z ={1, 2, 3}\n",
        "print(X.issuperset(Y))\n",
        "print(Z.issuperset(X))"
      ],
      "metadata": {
        "colab": {
          "base_uri": "https://localhost:8080/"
        },
        "id": "njVL4EqtDGOx",
        "outputId": "2b10d35b-6342-48e1-bcbb-e5b2f6e9fc4a"
      },
      "execution_count": 23,
      "outputs": [
        {
          "output_type": "stream",
          "name": "stdout",
          "text": [
            "True\n",
            "False\n"
          ]
        }
      ]
    },
    {
      "cell_type": "code",
      "source": [
        "#issubset\n",
        "a={1, 2, 3}\n",
        "b={1, 2, 3, 4, 5}\n",
        "print(a.issubset(b))"
      ],
      "metadata": {
        "colab": {
          "base_uri": "https://localhost:8080/"
        },
        "id": "yhjybhc4DJbU",
        "outputId": "7fd7446b-6fe0-4560-8019-e0bbafc02750"
      },
      "execution_count": 24,
      "outputs": [
        {
          "output_type": "stream",
          "name": "stdout",
          "text": [
            "True\n"
          ]
        }
      ]
    },
    {
      "cell_type": "code",
      "source": [
        "#isdisjoint\n",
        "A={3,4,5,6}\n",
        "B={7,8,9}\n",
        "print(A.isdisjoint(B))"
      ],
      "metadata": {
        "colab": {
          "base_uri": "https://localhost:8080/"
        },
        "id": "Z2ArP-NeDL_D",
        "outputId": "9f77d021-afd4-4c50-e07d-2d1523ae7dba"
      },
      "execution_count": 29,
      "outputs": [
        {
          "output_type": "stream",
          "name": "stdout",
          "text": [
            "True\n"
          ]
        }
      ]
    }
  ]
}