{
  "nbformat": 4,
  "nbformat_minor": 0,
  "metadata": {
    "colab": {
      "provenance": []
    },
    "kernelspec": {
      "name": "python3",
      "display_name": "Python 3"
    },
    "language_info": {
      "name": "python"
    }
  },
  "cells": [
    {
      "cell_type": "code",
      "execution_count": 2,
      "metadata": {
        "colab": {
          "base_uri": "https://localhost:8080/"
        },
        "id": "ZMK7EDOtqG1-",
        "outputId": "2212b4ae-7ba5-4986-f63a-a58b1d82cf9d"
      },
      "outputs": [
        {
          "output_type": "stream",
          "name": "stdout",
          "text": [
            "{0: 'a', 1: 'b', 2: 'c', 3: 'd'}\n"
          ]
        }
      ],
      "source": [
        "#Convert list into dictionary using enumerate\n",
        "list1=['a','b','c','d']\n",
        "d1=dict(enumerate(list1))\n",
        "print(d1)\n"
      ]
    }
  ]
}