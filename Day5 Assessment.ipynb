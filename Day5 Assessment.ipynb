{
  "nbformat": 4,
  "nbformat_minor": 0,
  "metadata": {
    "colab": {
      "provenance": []
    },
    "kernelspec": {
      "name": "python3",
      "display_name": "Python 3"
    },
    "language_info": {
      "name": "python"
    }
  },
  "cells": [
    {
      "cell_type": "code",
      "execution_count": 5,
      "metadata": {
        "colab": {
          "base_uri": "https://localhost:8080/"
        },
        "id": "OFVz9ca2CW2f",
        "outputId": "ee87e6c2-666b-46f6-811d-91f90f4ad7da"
      },
      "outputs": [
        {
          "output_type": "stream",
          "name": "stdout",
          "text": [
            "1 4 9 16 "
          ]
        }
      ],
      "source": [
        "list1=[1,2,3,4]\n",
        "#EXPECTED OUTPUT IS 1,4,9,16\n",
        "\n",
        "for i in list1:\n",
        " print (i**2,end=\" \")"
      ]
    }
  ]
}